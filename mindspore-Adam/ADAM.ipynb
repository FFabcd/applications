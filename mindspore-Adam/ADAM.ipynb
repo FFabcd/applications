{
 "cells": [
  {
   "cell_type": "markdown",
   "id": "5261d424-70cb-416e-bb5c-b812fe407918",
   "metadata": {},
   "source": [
    "## 基于MindSpore框架的Adam优化器案例实现\n",
    "\n",
    "### 1 Adam优化器简介\n",
    "最优化问题是计算数学中最为重要的研究方向之一。而在深度学习领域，优化算法的选择也是一个模型的重中之重。即使在数据集和模型架构完全相同的情况下，采用不同的优化算法，也很可能导致截然不同的训练效果。梯度下降是目前神经网络中使用最为广泛的优化算法之一。为了弥补朴素梯度下降的种种缺陷，研究者们发明了一系列变种算法，从最初的 SGD (随机梯度下降) 逐步演进到 NAdam, 本文将着重介绍Adam优化器。   \n",
    "\n",
    "2014年12月，Kingma和Lei Ba两位学者在《ADAM: A METHOD FOR STOCHASTIC OPTIMIZATION》一文中提出了Adam优化器。Adam是一种有效的随机优化方法，只需要一阶梯度，内存需求很少。该方法根据梯度的一阶矩（First Moment Estimation，即梯度的均值）和二阶矩（Second Moment Estimation，即梯度的未中心化的方差）的估计计算不同参数的个体自适应学习率； Adam 这个名字来源于自适应矩估计。Adam优化方法方法旨在结合两种流行的方法的优点：AdaGrad (Duchi et al., 2011)，适用于稀疏梯度，和 RMSProp (Tieleman & Hinton, 2012)，适用于在线和非固定设置。\n",
    "\n",
    "#### 1.1 Adam算法介绍\n",
    "\n",
    "<center>\n",
    "    <img src=\"./image/alg.png\" alt=\"image-20220819101847606\" width=50% />\n",
    "    <br>\n",
    "    <div style=\"color:orange;\n",
    "    display: inline-block;\n",
    "    color: #999;\n",
    "    padding: 2px;\">图1 adam算法</div>\n",
    "</center>\n",
    "a） 算法输入︰学习率α；分别作为梯度的一阶和二阶指数移动加权衰减率$ β_{1}$（默认为0.9）、$ β_{2}$（默认为0.999）；模型参数θ的损失函数f（θ），ε表示数值计算稳定性参数，一般取一个很小的浮点数，为了防止分母为0（默认为$ 10^{-8} $）。\n",
    "\n",
    "b） 初始化：梯度的一阶指数移动加权平均$ m_{t} $（初始化为0）和二阶指数移动加权平均$ v_{t} $（初始化为0），$ m_{t} $是对到目前为止$ g_{t}$的一阶原点距E[$ g_{t}$]的有偏估计，$ v_{t} $是对到目前为$ g_{t}$的二阶原点距估计E[$ g_{t}^2 $]的有偏估计。\n",
    "\n",
    "c） 迭代：不断进行梯度下降，直到参数$ θ_{t}$收敛。\n",
    "\n",
    "其中梯度下降过程： 1）计算第t轮迭代的梯度$ g_{t}$，\n",
    "\n",
    "\n",
    "$$g_{t} =\\nabla_{θ}f_{t}(θ_{t-1}) $$ \n",
    "更新$ m_{t}$、$ v_{t}$:\n",
    "$$m_{t} = β_{1}*m_{t-1}+(1-β_{1})*g_{t} $$ \n",
    "$$v_{t} = β_{2}*v_{t-1}+(1-β_{1})*g_{t}^2 $$ \n",
    "\n",
    "\n",
    "\n",
    "2）在迭代初期，$ m_{t}$对E[$ g_{t}$]的估计以及$ v_{t} $对E[$ g_{t}^2$]的估计都是有偏的，需要进行偏差修正，修正系数分别是$\\cfrac{1}{1-β_{1}^t}$和$\\cfrac{1}{1-β_{2}^t}$，随着迭代的进行，估计逐渐变为无偏估计，修正强度逐渐降低为1。\n",
    "\n",
    "$$\\widehat{m}_{t} =  \\cfrac{m_{t}}{1-β_{1}^t}$$ \n",
    "$$\\widehat{v}_{t} =  \\cfrac{v_{t}}{1-β_{2}^t}$$ \n",
    "\n",
    "3）更新模型参数$ θ_{t} $: \n",
    "\n",
    "$$ θ_{t} =  θ_{t-1}-α\\cfrac{m_{t}}{\\sqrt[]{v_{t}+ \\epsilon}}$$ \n",
    "\n",
    "分子表示$ g_{t} $在过去一段时间内各分量的平均值，即梯度更新的大致走向，分母表示$ g_{t} $在过去一段时间内各分量的平均大小。第一步是确定一个合适的下降方向（即分子项），第二步，对这个选定的方向上的各个子方向做一下微调（分母项），这样，推进较快的子方向会慢下来，推进较慢的子方向会加快速度，结合了Momentum和RMSprop两种算法的优点，动态调整了各个子方向的学习率，。\n",
    "\n",
    "\n",
    "#### 1.2 adam优化器优点\n",
    "a）惯性保持：Adam算法记录了梯度的一阶矩，即过往所有梯度与当前梯度的平均，使得每一次更新时，上一次更新的梯度与当前更新的梯度不会相差太大，即梯度平滑、稳定的过渡，可以适应不稳定的目标函数。\n",
    "\n",
    "b）环境感知：Adam记录了梯度的二阶矩，即过往梯度平方与当前梯度平方的平均，这体现了环境感知能力，为不同参数产生自适应的学习速率。\n",
    "\n",
    "c）超参数，即α，$ β_{1}$，$ β_{2}$，ε具有很好的解释性，且通常无需调整或仅需很少的微调。\n",
    "\n",
    "\n",
    "#### 1.3 adam优化器与SGDNesterov,Adagrad比较\n",
    "通过研究了不同的流行机器学习模型，包括逻辑回归、多层完全连接神经网络和深度卷积神经网络。使用大型模型和数据集， Adam可以有效地解决实际的深度学习问题。\n",
    "可以使用MNIST数据集调用不同优化器评估逻辑回归模型。可以使用128的小批量大小将Adam与具有Nesterov动量和Adagrad的加速SGD进行了比较。根据图1，我们发现Adam产生了与具有动量的SGD相似的收敛性，并且两者都比Adagra收敛得更快。\n",
    "<center>\n",
    "    <img src=\"./image/MNIST Logistic Regression.png\" alt=\"image-20220819101847606\" width=30% />\n",
    "    <br>\n",
    "    <div style=\"color:orange;\n",
    "    display: inline-block;\n",
    "    color: #999;\n",
    "    padding: 2px;\">图2 优化器比较</div>\n",
    "</center>\n",
    "如（Duchi等人，2011）所述，AdagradSGD可以有效地处理稀疏特征和梯度，这是其主要的理论结果之一，而SGD在学习稀有特征方面很低。\n",
    "\n",
    "### 2 基于Adam的Lenet手写识别案例实现\n",
    "\n",
    "#### **2.1 环境准备与数据读取**\n",
    "\n",
    "本案例基于MindSpore-CPU版本实现，在CPU上完成模型训练。\n",
    "\n",
    "MindSpore Vision是一个开源的基于MindSpore框架的计算机视觉研究工具箱，工具所涉及的任务主要包括分类，采用如下命令安装mindvision套件\n",
    "\n",
    "\n",
    "\n",
    "\n"
   ]
  },
  {
   "cell_type": "code",
   "execution_count": 1,
   "id": "52c3071e-ed6d-47a5-b545-4a81da596b05",
   "metadata": {},
   "outputs": [
    {
     "name": "stdout",
     "output_type": "stream",
     "text": [
      "Looking in indexes: http://192.168.0.122:8888/repository/pypi/simple\n",
      "Requirement already satisfied: mindvision in /home/ma-user/anaconda3/envs/MindSpore/lib/python3.7/site-packages (0.1.0)\n",
      "Requirement already satisfied: matplotlib>=3.2.1 in /home/ma-user/anaconda3/envs/MindSpore/lib/python3.7/site-packages (from mindvision) (3.5.3)\n",
      "Requirement already satisfied: opencv-contrib-python-headless in /home/ma-user/anaconda3/envs/MindSpore/lib/python3.7/site-packages (from mindvision) (4.6.0.66)\n",
      "Requirement already satisfied: easydict>=1.9 in /home/ma-user/anaconda3/envs/MindSpore/lib/python3.7/site-packages (from mindvision) (1.9)\n",
      "Requirement already satisfied: tqdm in /home/ma-user/modelarts-dev/modelarts-sdk (from mindvision) (4.62.3)\n",
      "Requirement already satisfied: wheel>=0.32.0 in /home/ma-user/anaconda3/envs/MindSpore/lib/python3.7/site-packages (from mindvision) (0.37.0)\n",
      "Requirement already satisfied: opencv-python-headless in /home/ma-user/anaconda3/envs/MindSpore/lib/python3.7/site-packages (from mindvision) (3.4.18.65)\n",
      "Requirement already satisfied: numpy>=1.17.0 in /home/ma-user/anaconda3/envs/MindSpore/lib/python3.7/site-packages (from mindvision) (1.21.6)\n",
      "Requirement already satisfied: ml-collections in /home/ma-user/anaconda3/envs/MindSpore/lib/python3.7/site-packages (from mindvision) (0.1.1)\n",
      "Requirement already satisfied: scikit-learn>=0.23.1 in /home/ma-user/anaconda3/envs/MindSpore/lib/python3.7/site-packages (from mindvision) (0.24.0)\n",
      "Requirement already satisfied: scipy>=1.5.2 in /home/ma-user/anaconda3/envs/MindSpore/lib/python3.7/site-packages (from mindvision) (1.5.4)\n",
      "Requirement already satisfied: setuptools>=40.8.0 in /home/ma-user/anaconda3/envs/MindSpore/lib/python3.7/site-packages (from mindvision) (58.0.4)\n",
      "Requirement already satisfied: pillow>=6.2.0 in /home/ma-user/anaconda3/envs/MindSpore/lib/python3.7/site-packages (from mindvision) (7.0.0)\n",
      "Requirement already satisfied: pytest>=4.3.1 in /home/ma-user/anaconda3/envs/MindSpore/lib/python3.7/site-packages (from mindvision) (7.2.0)\n",
      "Requirement already satisfied: kiwisolver>=1.0.1 in /home/ma-user/anaconda3/envs/MindSpore/lib/python3.7/site-packages (from matplotlib>=3.2.1->mindvision) (1.1.0)\n",
      "Requirement already satisfied: python-dateutil>=2.7 in /home/ma-user/anaconda3/envs/MindSpore/lib/python3.7/site-packages (from matplotlib>=3.2.1->mindvision) (2.8.2)\n",
      "Requirement already satisfied: pyparsing>=2.2.1 in /home/ma-user/anaconda3/envs/MindSpore/lib/python3.7/site-packages (from matplotlib>=3.2.1->mindvision) (3.0.6)\n",
      "Requirement already satisfied: packaging>=20.0 in /home/ma-user/anaconda3/envs/MindSpore/lib/python3.7/site-packages (from matplotlib>=3.2.1->mindvision) (21.3)\n",
      "Requirement already satisfied: fonttools>=4.22.0 in /home/ma-user/anaconda3/envs/MindSpore/lib/python3.7/site-packages (from matplotlib>=3.2.1->mindvision) (4.38.0)\n",
      "Requirement already satisfied: cycler>=0.10 in /home/ma-user/anaconda3/envs/MindSpore/lib/python3.7/site-packages (from matplotlib>=3.2.1->mindvision) (0.11.0)\n",
      "Requirement already satisfied: tomli>=1.0.0 in /home/ma-user/anaconda3/envs/MindSpore/lib/python3.7/site-packages (from pytest>=4.3.1->mindvision) (2.0.1)\n",
      "Requirement already satisfied: importlib-metadata>=0.12 in /home/ma-user/anaconda3/envs/MindSpore/lib/python3.7/site-packages (from pytest>=4.3.1->mindvision) (4.12.0)\n",
      "Requirement already satisfied: pluggy<2.0,>=0.12 in /home/ma-user/anaconda3/envs/MindSpore/lib/python3.7/site-packages (from pytest>=4.3.1->mindvision) (1.0.0)\n",
      "Requirement already satisfied: attrs>=19.2.0 in /home/ma-user/anaconda3/envs/MindSpore/lib/python3.7/site-packages (from pytest>=4.3.1->mindvision) (19.3.0)\n",
      "Requirement already satisfied: iniconfig in /home/ma-user/anaconda3/envs/MindSpore/lib/python3.7/site-packages (from pytest>=4.3.1->mindvision) (1.1.1)\n",
      "Requirement already satisfied: exceptiongroup>=1.0.0rc8 in /home/ma-user/anaconda3/envs/MindSpore/lib/python3.7/site-packages (from pytest>=4.3.1->mindvision) (1.0.3)\n",
      "Requirement already satisfied: zipp>=0.5 in /home/ma-user/anaconda3/envs/MindSpore/lib/python3.7/site-packages (from importlib-metadata>=0.12->pytest>=4.3.1->mindvision) (3.8.1)\n",
      "Requirement already satisfied: typing-extensions>=3.6.4 in /home/ma-user/anaconda3/envs/MindSpore/lib/python3.7/site-packages (from importlib-metadata>=0.12->pytest>=4.3.1->mindvision) (3.10.0.2)\n",
      "Requirement already satisfied: six>=1.5 in /home/ma-user/anaconda3/envs/MindSpore/lib/python3.7/site-packages (from python-dateutil>=2.7->matplotlib>=3.2.1->mindvision) (1.16.0)\n",
      "Requirement already satisfied: joblib>=0.11 in /home/ma-user/anaconda3/envs/MindSpore/lib/python3.7/site-packages (from scikit-learn>=0.23.1->mindvision) (1.1.0)\n",
      "Requirement already satisfied: threadpoolctl>=2.0.0 in /home/ma-user/anaconda3/envs/MindSpore/lib/python3.7/site-packages (from scikit-learn>=0.23.1->mindvision) (3.0.0)\n",
      "Requirement already satisfied: PyYAML in /home/ma-user/anaconda3/envs/MindSpore/lib/python3.7/site-packages (from ml-collections->mindvision) (5.3.1)\n",
      "Requirement already satisfied: absl-py in /home/ma-user/anaconda3/envs/MindSpore/lib/python3.7/site-packages (from ml-collections->mindvision) (1.3.0)\n",
      "Requirement already satisfied: contextlib2 in /home/ma-user/anaconda3/envs/MindSpore/lib/python3.7/site-packages (from ml-collections->mindvision) (21.6.0)\n",
      "\u001b[33mWARNING: Skipping opencv-python-headless-4.6.0.66 as it is not installed.\u001b[0m\n",
      "Looking in indexes: http://192.168.0.122:8888/repository/pypi/simple\n",
      "Requirement already satisfied: opencv-python-headless<4.3 in /home/ma-user/anaconda3/envs/MindSpore/lib/python3.7/site-packages (3.4.18.65)\n",
      "Requirement already satisfied: numpy>=1.19.3 in /home/ma-user/anaconda3/envs/MindSpore/lib/python3.7/site-packages (from opencv-python-headless<4.3) (1.21.6)\n"
     ]
    }
   ],
   "source": [
    "!pip install mindvision\n",
    "!pip uninstall opencv-python-headless-4.6.0.66\n",
    "!pip install \"opencv-python-headless<4.3\""
   ]
  },
  {
   "cell_type": "markdown",
   "id": "16fdf943-aaba-476e-a0c1-aca24a360805",
   "metadata": {},
   "source": [
    "案例实现所使用的数据即MNIST数据集，可以从http://yann.lecun.com/exdb/mnist/ 中下载，下载好的数据集包括4个文件，分别对应测试集图像、测试集标签、训练集图像、训练集样本，文件路径结构如下：\n",
    "\n",
    "```\n",
    "./mnist/\n",
    "├── test\n",
    "│   ├── t10k-images-idx3-ubyte\n",
    "│   └── t10k-labels-idx1-ubyte\n",
    "└── train\n",
    "    ├── train-images-idx3-ubyte\n",
    "    └── train-labels-idx1-ubyte\n",
    "```\n",
    "MNIST数据集是由10类28∗28的灰度图片组成。其中测试集test包括55000张训练图像，5000张验证图像；训练集train包括10000张训练图像。"
   ]
  },
  {
   "cell_type": "markdown",
   "id": "c89b61bf-52bd-4eef-96e6-83d99dc9c41c",
   "metadata": {},
   "source": [
    "##### **数据集准备与加载**"
   ]
  },
  {
   "cell_type": "code",
   "execution_count": 2,
   "id": "803bbb60-ea83-4571-8532-d051413255ac",
   "metadata": {},
   "outputs": [],
   "source": [
    "import os\n",
    "from mindvision.dataset import DownLoad\n",
    "\n",
    "#数据集下载路径\n",
    "dataset_url = \"https://mindspore-website.obs.cn-north-4.myhuaweicloud.com/\" \\\n",
    "      \"notebook/datasets/MNIST_Data.zip\"\n",
    "save_dir = \"./data\"\n",
    "\n",
    "#数据集下载\n",
    "dl = DownLoad()\n",
    "if not(os.path.exists(save_dir+\"/MNIST_Data.zip\")):\n",
    "    dl.download_and_extract_archive(dataset_url, save_dir)"
   ]
  },
  {
   "cell_type": "code",
   "execution_count": 3,
   "id": "467af884-ff74-4a55-a4cd-771398f014bd",
   "metadata": {},
   "outputs": [],
   "source": [
    "from mindvision.dataset import Mnist\n",
    "from mindspore.dataset import MnistDataset\n",
    "\n",
    "# 训练集\n",
    "dataset_train = MnistDataset(save_dir+\"/MNIST_Data/train\",shuffle=True) \n",
    "# 测试集\n",
    "dataset_eval = MnistDataset(save_dir+\"/MNIST_Data/test\",shuffle=True)   "
   ]
  },
  {
   "cell_type": "code",
   "execution_count": 4,
   "id": "734be8fe-aef1-487b-851b-d39b61215558",
   "metadata": {},
   "outputs": [],
   "source": [
    "import mindspore as ms\n",
    "from mindspore.dataset import vision, transforms\n",
    "\n",
    "#数据集处理: datapipe()\n",
    "def datapipe(dataset, batch_size,usage):\n",
    "    image_transforms=[\n",
    "        vision.Resize((32, 32)),\n",
    "        vision.Rescale(1.0 / 255.0,0),\n",
    "        vision.HWC2CHW()\n",
    "    ]\n",
    "\n",
    "    label_transform = transforms.TypeCast(ms.int32)\n",
    "    dataset = dataset.map(image_transforms, 'image')\n",
    "    dataset = dataset.map(label_transform, 'label')\n",
    "    dataset = dataset.batch(batch_size)\n",
    "\n",
    "    return dataset"
   ]
  },
  {
   "cell_type": "code",
   "execution_count": 5,
   "id": "a48de320-42d4-41a9-bfb5-cf285ca18fa8",
   "metadata": {},
   "outputs": [],
   "source": [
    "#处理数据集\n",
    "BATCH_SIZE = 32\n",
    "\n",
    "dataset_train = datapipe(dataset_train,BATCH_SIZE,\"train\")\n",
    "dataset_eval = datapipe(dataset_eval,BATCH_SIZE,\"test\")"
   ]
  },
  {
   "cell_type": "markdown",
   "id": "12487e26-3bfb-4742-810f-2db87dc8eafc",
   "metadata": {},
   "source": [
    "#### **2.2 模型构建**"
   ]
  },
  {
   "cell_type": "markdown",
   "id": "0af80b1d-6a46-4cee-a10f-7e3277217e6e",
   "metadata": {},
   "source": [
    "Lenet除去输入层共有7层，其中有2个卷积层，2个子采样（pooling）层，3个全连接层，网络模型结构如下图所示。\n",
    "<center>\n",
    "    <img src=\"./image/lenet.png\" alt=\"image-20220819101847606\" style=\"zoom:67%;\" />\n",
    "    <br>\n",
    "    <div style=\"color:orange;\n",
    "    display: inline-block;\n",
    "    color: #999;\n",
    "    padding: 2px;\"</div>\n",
    "</center>\n",
    "根据mindvision提供的lenet网络模型接口，定义network如下："
   ]
  },
  {
   "cell_type": "code",
   "execution_count": 6,
   "id": "ecba91a6-a68e-4254-87f0-9626c95132bd",
   "metadata": {},
   "outputs": [],
   "source": [
    "from mindvision.classification.models import lenet\n",
    "\n",
    "network = lenet(num_classes=10, pretrained=False)"
   ]
  },
  {
   "cell_type": "markdown",
   "id": "73da8fb6-bd4b-4486-8b42-b5b63f730dd3",
   "metadata": {},
   "source": [
    "#### **2.3 定义损失函数和优化器**"
   ]
  },
  {
   "cell_type": "markdown",
   "id": "03b40b4d-e2c6-4562-9257-d660c9e4b9e2",
   "metadata": {},
   "source": [
    "SoftmaxCrossEntropyWithLogits()为mindspore中分类任务的交叉熵损失函数,优化器选择使用nn.adam()，其中训练参数为network.trainable_params()，学习率（lr）取0.001。"
   ]
  },
  {
   "cell_type": "code",
   "execution_count": 7,
   "id": "1e45dcb8-8dc5-4aee-b656-ae0b11d7c5fb",
   "metadata": {},
   "outputs": [],
   "source": [
    "import mindspore.nn as nn\n",
    "\n",
    "# 定义损失函数\n",
    "net_loss = nn.SoftmaxCrossEntropyWithLogits(sparse=True, reduction='mean')\n",
    "\n",
    "# 定义优化器函数\n",
    "net_opt = nn.Adam(network.trainable_params(), learning_rate=0.001)\n"
   ]
  },
  {
   "cell_type": "markdown",
   "id": "d8e94449-f845-47aa-ac51-c3f09f8695cf",
   "metadata": {},
   "source": [
    "#### **2.4 模型训练和保存**"
   ]
  },
  {
   "cell_type": "markdown",
   "id": "408d1823-f837-4569-a6fe-b0f443dc9a40",
   "metadata": {},
   "source": [
    "在此处，使用ModelCheckpoint接口用于保存网络模型和参数，以便进行后续的微调操作。"
   ]
  },
  {
   "cell_type": "code",
   "execution_count": 8,
   "id": "158214d8-951a-42f7-8f27-ef7fb01de171",
   "metadata": {},
   "outputs": [],
   "source": [
    "from mindspore.train.callback import ModelCheckpoint, CheckpointConfig\n",
    "\n",
    "# 设置模型保存参数\n",
    "config_ck = CheckpointConfig(save_checkpoint_steps=1875, keep_checkpoint_max=10)\n",
    "\n",
    "# 应用模型保存参数\n",
    "ckpoint = ModelCheckpoint(prefix=\"lenet\", directory=\"./lenet\", config=config_ck)\n"
   ]
  },
  {
   "cell_type": "markdown",
   "id": "f54271b7-bfc0-4796-9453-a90deb40ceaf",
   "metadata": {},
   "source": [
    "使用MindSpore提供的model.train接口进行网络的训练，使用mindvision中LossMonitor监控训练过程中loss值的变化。"
   ]
  },
  {
   "cell_type": "code",
   "execution_count": 9,
   "id": "2761a81f-4722-408c-a907-77bb81b4a55c",
   "metadata": {},
   "outputs": [
    {
     "name": "stdout",
     "output_type": "stream",
     "text": [
      "Epoch:[  0/ 10], step:[ 1875/ 1875], loss:[0.232/0.232], time:18361.889 ms, lr:0.00100\n",
      "Epoch time: 25478.601 ms, per step time: 13.589 ms, avg loss: 0.232\n",
      "Epoch:[  1/ 10], step:[ 1875/ 1875], loss:[0.009/0.009], time:2797.316 ms, lr:0.00100\n",
      "Epoch time: 2799.549 ms, per step time: 1.493 ms, avg loss: 0.009\n",
      "Epoch:[  2/ 10], step:[ 1875/ 1875], loss:[0.007/0.007], time:2869.093 ms, lr:0.00100\n",
      "Epoch time: 2871.217 ms, per step time: 1.531 ms, avg loss: 0.007\n",
      "Epoch:[  3/ 10], step:[ 1875/ 1875], loss:[0.025/0.025], time:2975.416 ms, lr:0.00100\n",
      "Epoch time: 2977.759 ms, per step time: 1.588 ms, avg loss: 0.025\n",
      "Epoch:[  4/ 10], step:[ 1875/ 1875], loss:[0.002/0.002], time:2691.809 ms, lr:0.00100\n",
      "Epoch time: 2699.882 ms, per step time: 1.440 ms, avg loss: 0.002\n",
      "Epoch:[  5/ 10], step:[ 1875/ 1875], loss:[0.033/0.033], time:2788.846 ms, lr:0.00100\n",
      "Epoch time: 2791.206 ms, per step time: 1.489 ms, avg loss: 0.033\n",
      "Epoch:[  6/ 10], step:[ 1875/ 1875], loss:[0.022/0.022], time:2891.062 ms, lr:0.00100\n",
      "Epoch time: 2893.357 ms, per step time: 1.543 ms, avg loss: 0.022\n",
      "Epoch:[  7/ 10], step:[ 1875/ 1875], loss:[0.045/0.045], time:2788.929 ms, lr:0.00100\n",
      "Epoch time: 2791.290 ms, per step time: 1.489 ms, avg loss: 0.045\n",
      "Epoch:[  8/ 10], step:[ 1875/ 1875], loss:[0.026/0.026], time:2719.207 ms, lr:0.00100\n",
      "Epoch time: 2721.746 ms, per step time: 1.452 ms, avg loss: 0.026\n",
      "Epoch:[  9/ 10], step:[ 1875/ 1875], loss:[0.001/0.001], time:2702.690 ms, lr:0.00100\n",
      "Epoch time: 2705.142 ms, per step time: 1.443 ms, avg loss: 0.001\n"
     ]
    }
   ],
   "source": [
    "from mindvision.engine.callback import LossMonitor\n",
    "from mindspore.train import Model\n",
    "import mindspore as ms\n",
    "\n",
    "# 初始化模型参数\n",
    "model = Model(network, loss_fn=net_loss, optimizer=net_opt, metrics={'accuracy'})\n",
    "\n",
    "# 训练网络模型\n",
    "model.train(10, dataset_train, callbacks=[ckpoint, LossMonitor(0.001, 1875)])"
   ]
  },
  {
   "cell_type": "markdown",
   "id": "80914dbe-e203-4ae8-a5bd-cbfbb13ccb26",
   "metadata": {},
   "source": [
    "#### **2.5 模型评估**"
   ]
  },
  {
   "cell_type": "markdown",
   "id": "f83c2c2f-f3e5-4626-9cd6-61465e1699ed",
   "metadata": {},
   "source": [
    "将测试集置于训练好的模型上进行评估，输出的acc为评估的准确率"
   ]
  },
  {
   "cell_type": "code",
   "execution_count": 10,
   "id": "36ab2a9f-112e-405d-9456-40a4b5bf9bb0",
   "metadata": {},
   "outputs": [
    {
     "name": "stdout",
     "output_type": "stream",
     "text": [
      "{'accuracy': 0.9860223642172524}\n"
     ]
    }
   ],
   "source": [
    "acc = model.eval(dataset_eval)\n",
    "\n",
    "print(\"{}\".format(acc))"
   ]
  },
  {
   "cell_type": "markdown",
   "id": "90e27382-01a7-40da-8bdd-4673d6d35828",
   "metadata": {},
   "source": [
    "#### **2.6 模型验证与预测**"
   ]
  },
  {
   "cell_type": "code",
   "execution_count": 11,
   "id": "5864bc06-524c-41c3-b1b8-35e62a622d20",
   "metadata": {},
   "outputs": [
    {
     "data": {
      "image/png": "[encoded data removed]",
      "text/plain": [
       "<Figure size 432x288 with 32 Axes>"
      ]
     },
     "metadata": {
      "needs_background": "light"
     },
     "output_type": "display_data"
    },
    {
     "name": "stdout",
     "output_type": "stream",
     "text": [
      "Predicted: \"[9 4 8 4 7 5 2 6 8 8 9 3 4 1 2 6 4 4 1 2 9 0 3 8 3 1 7 1 7 5 8 8]\"\n",
      "Actual:    \"[9 4 8 4 7 5 2 6 8 8 9 3 4 1 2 6 4 9 1 2 9 0 3 8 3 1 7 1 7 5 8 8]\"\n"
     ]
    }
   ],
   "source": [
    "import numpy as np\n",
    "from mindspore import Tensor\n",
    "import matplotlib.pyplot as plt\n",
    "import mindspore as ms\n",
    "\n",
    "# 实例化model类\n",
    "model = Model(network, loss_fn=net_loss, optimizer=net_opt, metrics={'accuracy'})\n",
    "# 加载已经保存的用于测试的模型\n",
    "param_dict = ms.load_checkpoint(\"./lenet/lenet-1_1875.ckpt\")\n",
    "\n",
    "# 加载参数到网络中\n",
    "ms.load_param_into_net(network, param_dict)\n",
    "\n",
    "#加载测试集\n",
    "dataset_infer = MnistDataset(save_dir+\"/MNIST_Data/test\",shuffle=True) \n",
    "dataset_infer = datapipe(dataset_infer,BATCH_SIZE,\"test\")\n",
    "\n",
    "ds_test = dataset_infer.create_dict_iterator()\n",
    "data = next(ds_test)\n",
    "images = data[\"image\"].asnumpy()\n",
    "labels = data[\"label\"].asnumpy()\n",
    "\n",
    "plt.figure()\n",
    "for i in range(1, 33):\n",
    "    plt.subplot(8, 4, i)\n",
    "    plt.imshow(images[i-1][0], interpolation=\"None\", cmap=\"gray\")\n",
    "plt.show()\n",
    "\n",
    "# 使用函数model.predict预测image对应分类\n",
    "output = model.predict(Tensor(data['image']))\n",
    "predicted = np.argmax(output.asnumpy(), axis=1)\n",
    "\n",
    "# 输出预测分类与实际分类\n",
    "print(f'Predicted: \"{predicted}\"')\n",
    "print(f'Actual:    \"{labels}\"')"
   ]
  },
  {
   "cell_type": "markdown",
   "id": "4df60204-ee4f-4737-966d-92ba9f32601f",
   "metadata": {},
   "source": [
    "### 3、总结 ###\n",
    "本案例首先对ADAM优化器做了简单的介绍，讲解了ADAM优化器的基本算法，指出ADAM的优点，并和   SGDNesterov,Adagrad做了比较。然后，我们基于mindspore框架实现了应用ADAM优化器的一个案例——lenet手写识别，通过此案例可以初步掌握MindSpore中ADAM优化器的使用以及实现案例的基本流程，为MindSpore的使用提供支持。\n"
   ]
  }
 ],
 "metadata": {
  "kernelspec": {
   "display_name": "MindSpore",
   "language": "python",
   "name": "mindspore"
  },
  "language_info": {
   "codemirror_mode": {
    "name": "ipython",
    "version": 3
   },
   "file_extension": ".py",
   "mimetype": "text/x-python",
   "name": "python",
   "nbconvert_exporter": "python",
   "pygments_lexer": "ipython3",
   "version": "3.7.6"
  }
 },
 "nbformat": 4,
 "nbformat_minor": 5
}
